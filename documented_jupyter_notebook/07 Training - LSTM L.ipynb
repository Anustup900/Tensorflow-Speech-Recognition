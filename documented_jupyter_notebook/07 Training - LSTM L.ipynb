{
 "cells": [
  {
   "cell_type": "markdown",
   "metadata": {},
   "source": [
    "# 07 Training - LSTM \n",
    "#### Author: Jayant Verma\n",
    "#### Cognibit Solutions LLP\n",
    "\n",
    "LSTM-L Architecture based on https://arxiv.org/pdf/1711.07128.pdf"
   ]
  },
  {
   "cell_type": "code",
   "execution_count": 1,
   "metadata": {},
   "outputs": [
    {
     "name": "stderr",
     "output_type": "stream",
     "text": [
      "/home/metal_geek/anaconda3/lib/python3.6/importlib/_bootstrap.py:205: RuntimeWarning: compiletime version 3.5 of module 'tensorflow.python.framework.fast_tensor_util' does not match runtime version 3.6\n",
      "  return f(*args, **kwds)\n",
      "/home/metal_geek/anaconda3/lib/python3.6/site-packages/h5py/__init__.py:34: FutureWarning: Conversion of the second argument of issubdtype from `float` to `np.floating` is deprecated. In future, it will be treated as `np.float64 == np.dtype(float).type`.\n",
      "  from ._conv import register_converters as _register_converters\n"
     ]
    }
   ],
   "source": [
    "import sys\n",
    "import os\n",
    "import tensorflow as tf\n",
    "\n",
    "sys.path.append(\"../libs\")\n",
    "from classification import input_data\n",
    "from classification import models\n",
    "from classification import trainer\n",
    "from classification import freeze"
   ]
  },
  {
   "cell_type": "markdown",
   "metadata": {},
   "source": [
    "Change the data folder to use the required data folder."
   ]
  },
  {
   "cell_type": "markdown",
   "metadata": {},
   "source": [
    "### Flags"
   ]
  },
  {
   "cell_type": "code",
   "execution_count": 2,
   "metadata": {
    "collapsed": true
   },
   "outputs": [],
   "source": [
    "flags=tf.app.flags"
   ]
  },
  {
   "cell_type": "code",
   "execution_count": 3,
   "metadata": {},
   "outputs": [],
   "source": [
    "flags=tf.app.flags\n",
    "#Important Directories\n",
    "flags.DEFINE_string('data_dir','../data/raw','Train Data Folder')\n",
    "flags.DEFINE_string('summaries_dir','../summaries','Summaries Folder')\n",
    "flags.DEFINE_string('train_dir','../logs&checkpoint','Directory to write event logs and checkpoint')\n",
    "flags.DEFINE_string('models_dir','../models','Models Folder')\n",
    "#Task Specific Parameters\n",
    "flags.DEFINE_string('wanted_words','yes,no,up,down,left,right,on,off,stop,go','Wanted Words')\n",
    "flags.DEFINE_float('validation_percentage',10,'Validation Percentage')\n",
    "flags.DEFINE_float('testing_percentage',10,'Testing Percentage')\n",
    "flags.DEFINE_integer('sample_rate',16000,'Sample Rate')\n",
    "flags.DEFINE_integer('clip_duration_ms',1000,'Clip Duration in ms')\n",
    "flags.DEFINE_float('window_size_ms',40,'How long each spectogram timeslice is')\n",
    "flags.DEFINE_float('window_stride_ms',20,'How far to move in time between frequency windows.')\n",
    "flags.DEFINE_integer('dct_coefficient_count',40,'How many bins to use for the MFCC fingerprint')\n",
    "flags.DEFINE_float('time_shift_ms',100.0,'Range to randomly shift the training audio by in time.')\n",
    "\n",
    "FLAGS=flags.FLAGS"
   ]
  },
  {
   "cell_type": "markdown",
   "metadata": {},
   "source": [
    "### Variables"
   ]
  },
  {
   "cell_type": "code",
   "execution_count": 4,
   "metadata": {
    "collapsed": true
   },
   "outputs": [],
   "source": [
    "model_architecture='lstm_l'\n",
    "start_checkpoint='../logs&checkpoint/lstm_l/ckpt-30000'\n",
    "logging_interval=10\n",
    "eval_step_interval=500\n",
    "save_step_interval=2000\n",
    "silence_percentage=10.0\n",
    "unknown_percentage=15.0\n",
    "background_frequency=1\n",
    "background_volume=0.3\n",
    "learning_rate='0.0005,0.0001,0.00002,0.0001,0.00002' #Always seperated by comma, trains with each of the learning rate for the given number of iterations\n",
    "train_steps='10000,10000,10000,15000,5000' #Declare  the training steps for which the learning rates will be used\n",
    "batch_size=256\n"
   ]
  },
  {
   "cell_type": "markdown",
   "metadata": {},
   "source": [
    "### Initialise the get_train_data() get_val_data() and get_test_data() Function"
   ]
  },
  {
   "cell_type": "code",
   "execution_count": null,
   "metadata": {
    "collapsed": true
   },
   "outputs": [],
   "source": [
    "train_dir=os.path.join(FLAGS.data_dir,'train','audio')"
   ]
  },
  {
   "cell_type": "code",
   "execution_count": null,
   "metadata": {},
   "outputs": [],
   "source": [
    "model_settings = models.prepare_model_settings(\n",
    "      len(input_data.prepare_words_list(FLAGS.wanted_words.split(','))),\n",
    "      FLAGS.sample_rate, FLAGS.clip_duration_ms, FLAGS.window_size_ms,\n",
    "      FLAGS.window_stride_ms, FLAGS.dct_coefficient_count)\n",
    "audio_processor = input_data.AudioProcessor(\n",
    "      train_dir, silence_percentage, unknown_percentage,\n",
    "      FLAGS.wanted_words.split(','), FLAGS.validation_percentage,\n",
    "      FLAGS.testing_percentage, model_settings,use_silence_folder=True)"
   ]
  },
  {
   "cell_type": "code",
   "execution_count": null,
   "metadata": {},
   "outputs": [],
   "source": [
    "def get_train_data(args):\n",
    "    sess=args\n",
    "    time_shift_samples = int((FLAGS.time_shift_ms * FLAGS.sample_rate) / 1000)\n",
    "    train_fingerprints, train_ground_truth = audio_processor.get_data(\n",
    "        batch_size, 0, model_settings,background_frequency,\n",
    "        background_volume, time_shift_samples, 'training', sess)\n",
    "    return train_fingerprints,train_ground_truth"
   ]
  },
  {
   "cell_type": "code",
   "execution_count": null,
   "metadata": {
    "collapsed": true
   },
   "outputs": [],
   "source": [
    "def get_val_data(args):\n",
    "    '''\n",
    "    Input: (sess,offset)\n",
    "    '''\n",
    "    sess,i=args\n",
    "    validation_fingerprints, validation_ground_truth = (\n",
    "            audio_processor.get_data(batch_size, i, model_settings, 0.0,\n",
    "                                     0.0, 0, 'validation', sess))\n",
    "    return validation_fingerprints,validation_ground_truth"
   ]
  },
  {
   "cell_type": "code",
   "execution_count": null,
   "metadata": {
    "collapsed": true
   },
   "outputs": [],
   "source": [
    "def get_test_data(args):\n",
    "    '''\n",
    "    Input: (sess,offset)\n",
    "    '''\n",
    "    sess,i=args\n",
    "    test_fingerprints, test_ground_truth = audio_processor.get_data(\n",
    "        batch_size, i, model_settings, 0.0, 0.0, 0, 'testing', sess)\n",
    "    return test_fingerprints,test_ground_truth"
   ]
  },
  {
   "cell_type": "markdown",
   "metadata": {},
   "source": [
    "### Training"
   ]
  },
  {
   "cell_type": "code",
   "execution_count": null,
   "metadata": {},
   "outputs": [],
   "source": [
    "def main(_):\n",
    "    sess=tf.InteractiveSession()\n",
    "    # Placeholders\n",
    "    fingerprint_size = model_settings['fingerprint_size']\n",
    "    label_count = model_settings['label_count']\n",
    "    fingerprint_input = tf.placeholder(\n",
    "      tf.float32, [None, fingerprint_size], name='fingerprint_input')\n",
    "    ground_truth_input = tf.placeholder(\n",
    "      tf.float32, [None, label_count], name='groundtruth_input')\n",
    "    set_size = audio_processor.set_size('validation')\n",
    "    label_count = model_settings['label_count']\n",
    "    \n",
    "    # Create Model\n",
    "    \n",
    "    logits, dropout_prob = models.create_model(\n",
    "      fingerprint_input,\n",
    "      model_settings,\n",
    "      model_architecture,\n",
    "      is_training=True)\n",
    "    \n",
    "    #Start Training\n",
    "    extra_args=(dropout_prob,label_count,batch_size,set_size)\n",
    "    trainer.train(sess,logits,fingerprint_input,ground_truth_input,get_train_data,\n",
    "                  get_val_data,train_steps,learning_rate,eval_step_interval, logging_interval=logging_interval,\n",
    "                  start_checkpoint=start_checkpoint,checkpoint_interval=save_step_interval,\n",
    "                  model_name=model_architecture,train_dir=FLAGS.train_dir,\n",
    "                  summaries_dir=FLAGS.summaries_dir,args=extra_args)"
   ]
  },
  {
   "cell_type": "code",
   "execution_count": null,
   "metadata": {
    "scrolled": false
   },
   "outputs": [],
   "source": [
    "tf.app.run(main=main)"
   ]
  },
  {
   "cell_type": "markdown",
   "metadata": {},
   "source": [
    "### Freeze"
   ]
  },
  {
   "cell_type": "code",
   "execution_count": 5,
   "metadata": {
    "collapsed": true
   },
   "outputs": [],
   "source": [
    "save_checkpoint='../logs&checkpoint/lstm_l/ckpt-50000'"
   ]
  },
  {
   "cell_type": "code",
   "execution_count": null,
   "metadata": {},
   "outputs": [],
   "source": [
    "save_path=os.path.join(FLAGS.models_dir,model_architecture,'%s-batched.pb'%os.path.basename(save_checkpoint))\n",
    "freeze.freeze_graph(FLAGS,model_architecture,save_checkpoint,save_path,batched=True,model_size_info=model_size_info)"
   ]
  },
  {
   "cell_type": "code",
   "execution_count": 6,
   "metadata": {},
   "outputs": [
    {
     "name": "stdout",
     "output_type": "stream",
     "text": [
      "INFO:tensorflow:Restoring parameters from ../logs&checkpoint/lstm_l/ckpt-50000\n",
      "INFO:tensorflow:Froze 8 variables.\n",
      "Converted 8 variables to const ops.\n",
      "INFO:tensorflow:Saved frozen graph to ../models/lstm_l/ckpt-50000-batched.pb\n"
     ]
    }
   ],
   "source": [
    "save_path=os.path.join(FLAGS.models_dir,model_architecture,'%s-batched.pb'%os.path.basename(save_checkpoint))\n",
    "freeze.freeze_graph(FLAGS,model_architecture,save_checkpoint,save_path,batched=True)"
   ]
  }
 ],
 "metadata": {
  "kernelspec": {
   "display_name": "Python 3",
   "language": "python",
   "name": "python3"
  },
  "language_info": {
   "codemirror_mode": {
    "name": "ipython",
    "version": 3
   },
   "file_extension": ".py",
   "mimetype": "text/x-python",
   "name": "python",
   "nbconvert_exporter": "python",
   "pygments_lexer": "ipython3",
   "version": "3.9.1"
  }
 },
 "nbformat": 4,
 "nbformat_minor": 2
}
