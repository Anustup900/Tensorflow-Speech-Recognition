{
 "cells": [
  {
   "cell_type": "markdown",
   "metadata": {},
   "source": [
    "# 08 Psuedo Labelling\n",
    "#### Author: Jayant Verma\n",
    "#### Cognibit Solutions LLP\n",
    "\n",
    "Psuedo Labelling of Input Data"
   ]
  },
  {
   "cell_type": "code",
   "execution_count": 15,
   "metadata": {},
   "outputs": [],
   "source": [
    "import sys\n",
    "import os\n",
    "import shutil\n",
    "import pandas as pd\n",
    "import numpy as np\n",
    "import IPython"
   ]
  },
  {
   "cell_type": "code",
   "execution_count": 16,
   "metadata": {},
   "outputs": [],
   "source": [
    "trusted_model_loc='../predictions/ds_cnn/'\n",
    "data_dir='../data/raw/'"
   ]
  },
  {
   "cell_type": "code",
   "execution_count": 17,
   "metadata": {
    "collapsed": true
   },
   "outputs": [],
   "source": [
    "predictions=pd.read_csv(os.path.join(trusted_model_loc,'predictions.csv'))"
   ]
  },
  {
   "cell_type": "code",
   "execution_count": 18,
   "metadata": {
    "collapsed": true
   },
   "outputs": [],
   "source": [
    "pred_mat=np.load(os.path.join(trusted_model_loc,'pred_mat.npy'))"
   ]
  },
  {
   "cell_type": "code",
   "execution_count": 19,
   "metadata": {},
   "outputs": [],
   "source": [
    "sure_files=list(predictions[pred_mat.max(axis=1)>0.95]['fname'])\n",
    "sure_preds=list(predictions[pred_mat.max(axis=1)>0.95]['label'])"
   ]
  },
  {
   "cell_type": "markdown",
   "metadata": {},
   "source": [
    "Copy files from test dir to train dir"
   ]
  },
  {
   "cell_type": "code",
   "execution_count": 20,
   "metadata": {},
   "outputs": [],
   "source": [
    "train_dir=os.path.join(data_dir,'train','audio')\n",
    "test_dir=os.path.join(data_dir,'test','audio')"
   ]
  },
  {
   "cell_type": "code",
   "execution_count": 21,
   "metadata": {
    "collapsed": true
   },
   "outputs": [],
   "source": [
    "directory=os.path.join(train_dir,'new_unknown')\n",
    "if not os.path.exists(directory):\n",
    "    os.makedirs(directory)\n",
    "directory=os.path.join(train_dir,'silence')\n",
    "if not os.path.exists(directory):\n",
    "    os.makedirs(directory)"
   ]
  },
  {
   "cell_type": "markdown",
   "metadata": {},
   "source": [
    "Copy Files"
   ]
  },
  {
   "cell_type": "code",
   "execution_count": 22,
   "metadata": {},
   "outputs": [
    {
     "name": "stdout",
     "output_type": "stream",
     "text": [
      "Completed 100.000000%"
     ]
    }
   ],
   "source": [
    "for i in range(len(sure_files)):\n",
    "    src=os.path.join(test_dir,sure_files[i])\n",
    "    if sure_preds[i]=='unknown':\n",
    "        dest=os.path.join(train_dir,'new_unknown',sure_files[i])\n",
    "    else:\n",
    "        dest=os.path.join(train_dir,sure_preds[i],sure_files[i])\n",
    "    shutil.copy2(src,dest)\n",
    "    print('\\rCompleted %f%%'%(((i+1)/len(sure_files))*100),end='')"
   ]
  },
  {
   "cell_type": "markdown",
   "metadata": {},
   "source": [
    "Delete files"
   ]
  },
  {
   "cell_type": "code",
   "execution_count": 14,
   "metadata": {},
   "outputs": [
    {
     "name": "stdout",
     "output_type": "stream",
     "text": [
      "Completed 100.000000%"
     ]
    }
   ],
   "source": [
    "for i in range(len(sure_files)):\n",
    "    if sure_preds[i]=='unknown':\n",
    "        dest=os.path.join(train_dir,'new_unknown',sure_files[i])\n",
    "    else:\n",
    "        dest=os.path.join(train_dir,sure_preds[i],sure_files[i])\n",
    "    if(os.path.isfile(dest)):\n",
    "        os.remove(dest)\n",
    "    print('\\rCompleted %f%%'%(((i+1)/len(sure_files))*100),end='')"
   ]
  },
  {
   "cell_type": "markdown",
   "metadata": {},
   "source": [
    "Play Audio"
   ]
  }
 ],
 "metadata": {
  "kernelspec": {
   "display_name": "Python 3",
   "language": "python",
   "name": "python3"
  },
  "language_info": {
   "codemirror_mode": {
    "name": "ipython",
    "version": 3
   },
   "file_extension": ".py",
   "mimetype": "text/x-python",
   "name": "python",
   "nbconvert_exporter": "python",
   "pygments_lexer": "ipython3",
   "version": "3.9.1"
  }
 },
 "nbformat": 4,
 "nbformat_minor": 2
}
