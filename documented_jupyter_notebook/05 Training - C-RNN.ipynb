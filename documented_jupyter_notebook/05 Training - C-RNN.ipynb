{
 "cells": [
  {
   "cell_type": "markdown",
   "metadata": {},
   "source": [
    "# 05 Training - C-RNN\n",
    "#### Author: Jayant Verma\n",
    "#### Cognibit Solutions LLP\n",
    "\n",
    "Derived from https://arxiv.org/pdf/1711.07128.pdf\n",
    "\n",
    "C-RNN Model"
   ]
  },
  {
   "cell_type": "code",
   "execution_count": 1,
   "metadata": {},
   "outputs": [
    {
     "name": "stderr",
     "output_type": "stream",
     "text": [
      "/home/metal_geek/anaconda3/lib/python3.6/importlib/_bootstrap.py:205: RuntimeWarning: compiletime version 3.5 of module 'tensorflow.python.framework.fast_tensor_util' does not match runtime version 3.6\n",
      "  return f(*args, **kwds)\n",
      "/home/metal_geek/anaconda3/lib/python3.6/site-packages/h5py/__init__.py:34: FutureWarning: Conversion of the second argument of issubdtype from `float` to `np.floating` is deprecated. In future, it will be treated as `np.float64 == np.dtype(float).type`.\n",
      "  from ._conv import register_converters as _register_converters\n"
     ]
    }
   ],
   "source": [
    "import sys\n",
    "import os\n",
    "import tensorflow as tf\n",
    "\n",
    "sys.path.append(\"../libs\")\n",
    "from classification import input_data\n",
    "from classification import models\n",
    "from classification import trainer\n",
    "from classification import freeze"
   ]
  },
  {
   "cell_type": "markdown",
   "metadata": {},
   "source": [
    "Change the data folder to use the required data folder."
   ]
  },
  {
   "cell_type": "markdown",
   "metadata": {},
   "source": [
    "### Flags"
   ]
  },
  {
   "cell_type": "code",
   "execution_count": 2,
   "metadata": {
    "collapsed": true
   },
   "outputs": [],
   "source": [
    "flags=tf.app.flags"
   ]
  },
  {
   "cell_type": "code",
   "execution_count": 3,
   "metadata": {},
   "outputs": [],
   "source": [
    "flags=tf.app.flags\n",
    "#Important Directories\n",
    "flags.DEFINE_string('data_dir','../data/raw','Train Data Folder')\n",
    "flags.DEFINE_string('summaries_dir','../summaries','Summaries Folder')\n",
    "flags.DEFINE_string('train_dir','../logs&checkpoint','Directory to write event logs and checkpoint')\n",
    "flags.DEFINE_string('models_dir','../models','Models Folder')\n",
    "#Task Specific Parameters\n",
    "flags.DEFINE_string('wanted_words','yes,no,up,down,left,right,on,off,stop,go','Wanted Words')\n",
    "flags.DEFINE_float('validation_percentage',10,'Validation Percentage')\n",
    "flags.DEFINE_float('testing_percentage',10,'Testing Percentage')\n",
    "flags.DEFINE_integer('sample_rate',16000,'Sample Rate')\n",
    "flags.DEFINE_integer('clip_duration_ms',1000,'Clip Duration in ms')\n",
    "flags.DEFINE_float('window_size_ms',40,'How long each spectogram timeslice is')\n",
    "flags.DEFINE_float('window_stride_ms',20.0,'How far to move in time between frequency windows.')\n",
    "flags.DEFINE_integer('dct_coefficient_count',40,'How many bins to use for the MFCC fingerprint')\n",
    "flags.DEFINE_float('time_shift_ms',100.0,'Range to randomly shift the training audio by in time.')\n",
    "\n",
    "FLAGS=flags.FLAGS"
   ]
  },
  {
   "cell_type": "markdown",
   "metadata": {},
   "source": [
    "### Variables"
   ]
  },
  {
   "cell_type": "code",
   "execution_count": 4,
   "metadata": {
    "collapsed": true
   },
   "outputs": [],
   "source": [
    "model_architecture='c_rnn'\n",
    "start_checkpoint=None\n",
    "logging_interval=10\n",
    "eval_step_interval=500\n",
    "save_step_interval=2000\n",
    "silence_percentage=10.0\n",
    "unknown_percentage=10.0\n",
    "background_frequency=0.8\n",
    "background_volume=0.3\n",
    "learning_rate='0.0005,0.0001,0.00002' #Always seperated by comma, trains with each of the learning rate for the given number of iterations\n",
    "train_steps='10000,10000,10000' #Declare  the training steps for which the learning rates will be used\n",
    "batch_size=256\n",
    "model_size_info=[48, 10, 4, 2, 2, 2, 60, 84]"
   ]
  },
  {
   "cell_type": "markdown",
   "metadata": {},
   "source": [
    "### Initialise the get_train_data() get_val_data() and get_test_data() Function"
   ]
  },
  {
   "cell_type": "code",
   "execution_count": 5,
   "metadata": {
    "collapsed": true
   },
   "outputs": [],
   "source": [
    "train_dir=os.path.join(FLAGS.data_dir,'train','audio')"
   ]
  },
  {
   "cell_type": "code",
   "execution_count": 6,
   "metadata": {},
   "outputs": [
    {
     "name": "stdout",
     "output_type": "stream",
     "text": [
      "../data/raw/train/audio/*/*.wav\n",
      "../data/raw/train/audio/_background_noise_/pink_noise.wav\n",
      "../data/raw/train/audio/_background_noise_/doing_the_dishes.wav\n",
      "../data/raw/train/audio/_background_noise_/white_noise.wav\n",
      "../data/raw/train/audio/_background_noise_/dude_miaowing.wav\n",
      "../data/raw/train/audio/_background_noise_/running_tap.wav\n",
      "../data/raw/train/audio/_background_noise_/exercise_bike.wav\n"
     ]
    }
   ],
   "source": [
    "model_settings = models.prepare_model_settings(\n",
    "      len(input_data.prepare_words_list(FLAGS.wanted_words.split(','))),\n",
    "      FLAGS.sample_rate, FLAGS.clip_duration_ms, FLAGS.window_size_ms,\n",
    "      FLAGS.window_stride_ms, FLAGS.dct_coefficient_count)\n",
    "audio_processor = input_data.AudioProcessor(\n",
    "      train_dir, silence_percentage, unknown_percentage,\n",
    "      FLAGS.wanted_words.split(','), FLAGS.validation_percentage,\n",
    "      FLAGS.testing_percentage, model_settings,use_silence_folder=True)"
   ]
  },
  {
   "cell_type": "code",
   "execution_count": 7,
   "metadata": {},
   "outputs": [],
   "source": [
    "def get_train_data(args):\n",
    "    sess=args\n",
    "    time_shift_samples = int((FLAGS.time_shift_ms * FLAGS.sample_rate) / 1000)\n",
    "    train_fingerprints, train_ground_truth = audio_processor.get_data(\n",
    "        batch_size, 0, model_settings,background_frequency,\n",
    "        background_volume, time_shift_samples, 'training', sess)\n",
    "    return train_fingerprints,train_ground_truth"
   ]
  },
  {
   "cell_type": "code",
   "execution_count": 8,
   "metadata": {
    "collapsed": true
   },
   "outputs": [],
   "source": [
    "def get_val_data(args):\n",
    "    '''\n",
    "    Input: (sess,offset)\n",
    "    '''\n",
    "    sess,i=args\n",
    "    validation_fingerprints, validation_ground_truth = (\n",
    "            audio_processor.get_data(batch_size, i, model_settings, 0.0,\n",
    "                                     0.0, 0, 'validation', sess))\n",
    "    return validation_fingerprints,validation_ground_truth"
   ]
  },
  {
   "cell_type": "code",
   "execution_count": 9,
   "metadata": {
    "collapsed": true
   },
   "outputs": [],
   "source": [
    "def get_test_data(args):\n",
    "    '''\n",
    "    Input: (sess,offset)\n",
    "    '''\n",
    "    sess,i=args\n",
    "    test_fingerprints, test_ground_truth = audio_processor.get_data(\n",
    "        batch_size, i, model_settings, 0.0, 0.0, 0, 'testing', sess)\n",
    "    return test_fingerprints,test_ground_truth"
   ]
  },
  {
   "cell_type": "markdown",
   "metadata": {},
   "source": [
    "### Training"
   ]
  },
  {
   "cell_type": "code",
   "execution_count": 10,
   "metadata": {},
   "outputs": [],
   "source": [
    "def main(_):\n",
    "    sess=tf.InteractiveSession()\n",
    "    # Placeholders\n",
    "    fingerprint_size = model_settings['fingerprint_size']\n",
    "    label_count = model_settings['label_count']\n",
    "    fingerprint_input = tf.placeholder(\n",
    "      tf.float32, [None, fingerprint_size], name='fingerprint_input')\n",
    "    ground_truth_input = tf.placeholder(\n",
    "      tf.float32, [None, label_count], name='groundtruth_input')\n",
    "    set_size = audio_processor.set_size('validation')\n",
    "    label_count = model_settings['label_count']\n",
    "    \n",
    "    # Create Model\n",
    "    \n",
    "    logits, dropout_prob = models.create_model(\n",
    "      fingerprint_input,\n",
    "      model_settings,\n",
    "      model_architecture,\n",
    "      model_size_info=model_size_info,\n",
    "      is_training=True)\n",
    "    \n",
    "    #Start Training\n",
    "    extra_args=(dropout_prob,label_count,batch_size,set_size)\n",
    "    trainer.train(sess,logits,fingerprint_input,ground_truth_input,get_train_data,\n",
    "                  get_val_data,train_steps,learning_rate,eval_step_interval, logging_interval=logging_interval,\n",
    "                  start_checkpoint=start_checkpoint,checkpoint_interval=save_step_interval,\n",
    "                  model_name=model_architecture,train_dir=FLAGS.train_dir,\n",
    "                  summaries_dir=FLAGS.summaries_dir,args=extra_args)"
   ]
  },
  {
   "cell_type": "code",
   "execution_count": 11,
   "metadata": {},
   "outputs": [
    {
     "name": "stdout",
     "output_type": "stream",
     "text": [
      "WARNING:tensorflow:From ../libs/classification/trainer.py:74: get_or_create_global_step (from tensorflow.contrib.framework.python.ops.variables) is deprecated and will be removed in a future version.\n",
      "Instructions for updating:\n",
      "Please switch to tf.train.get_or_create_global_step\n",
      "INFO:tensorflow:Restoring parameters from ../logs&checkpoint/c_rnn/ckpt-40000\n",
      "INFO:tensorflow:Training from step: 40001 \n",
      "INFO:tensorflow:Step #40010: rate 0.000100, accuracy 91.0%, cross entropy 0.301152\n",
      "INFO:tensorflow:Step #40020: rate 0.000100, accuracy 90.0%, cross entropy 0.301449\n",
      "INFO:tensorflow:Step #40030: rate 0.000100, accuracy 92.0%, cross entropy 0.229110\n",
      "INFO:tensorflow:Step #40040: rate 0.000100, accuracy 92.0%, cross entropy 0.229814\n",
      "INFO:tensorflow:Step #40050: rate 0.000100, accuracy 86.0%, cross entropy 0.391190\n",
      "INFO:tensorflow:Step #40060: rate 0.000100, accuracy 93.0%, cross entropy 0.224400\n",
      "INFO:tensorflow:Step #40070: rate 0.000100, accuracy 95.0%, cross entropy 0.197558\n",
      "INFO:tensorflow:Step #40080: rate 0.000100, accuracy 94.0%, cross entropy 0.199579\n",
      "INFO:tensorflow:Step #40090: rate 0.000100, accuracy 85.0%, cross entropy 0.474785\n",
      "INFO:tensorflow:Step #40100: rate 0.000100, accuracy 96.0%, cross entropy 0.124856\n",
      "INFO:tensorflow:Step #40110: rate 0.000100, accuracy 93.0%, cross entropy 0.176875\n",
      "INFO:tensorflow:Step #40120: rate 0.000100, accuracy 96.0%, cross entropy 0.130288\n",
      "INFO:tensorflow:Step #40130: rate 0.000100, accuracy 94.0%, cross entropy 0.184727\n",
      "INFO:tensorflow:Step #40140: rate 0.000100, accuracy 93.0%, cross entropy 0.204933\n",
      "INFO:tensorflow:Step #40150: rate 0.000100, accuracy 95.0%, cross entropy 0.186923\n",
      "INFO:tensorflow:Step #40160: rate 0.000100, accuracy 94.0%, cross entropy 0.239988\n",
      "INFO:tensorflow:Step #40170: rate 0.000100, accuracy 95.0%, cross entropy 0.245113\n",
      "INFO:tensorflow:Step #40180: rate 0.000100, accuracy 92.0%, cross entropy 0.328515\n",
      "INFO:tensorflow:Step #40190: rate 0.000100, accuracy 92.0%, cross entropy 0.279211\n",
      "INFO:tensorflow:Step #40200: rate 0.000100, accuracy 93.0%, cross entropy 0.196291\n",
      "INFO:tensorflow:Step #40210: rate 0.000100, accuracy 89.0%, cross entropy 0.410754\n",
      "INFO:tensorflow:Step #40220: rate 0.000100, accuracy 93.0%, cross entropy 0.240537\n",
      "INFO:tensorflow:Step #40230: rate 0.000100, accuracy 92.0%, cross entropy 0.333666\n",
      "INFO:tensorflow:Step #40240: rate 0.000100, accuracy 94.0%, cross entropy 0.198897\n",
      "INFO:tensorflow:Step #40250: rate 0.000100, accuracy 93.0%, cross entropy 0.187401\n",
      "INFO:tensorflow:Step #40260: rate 0.000100, accuracy 92.0%, cross entropy 0.244527\n",
      "INFO:tensorflow:Step #40270: rate 0.000100, accuracy 96.0%, cross entropy 0.214288\n",
      "INFO:tensorflow:Step #40280: rate 0.000100, accuracy 91.0%, cross entropy 0.362402\n",
      "INFO:tensorflow:Step #40290: rate 0.000100, accuracy 94.0%, cross entropy 0.217949\n",
      "INFO:tensorflow:Step #40300: rate 0.000100, accuracy 90.0%, cross entropy 0.352572\n",
      "INFO:tensorflow:Step #40310: rate 0.000100, accuracy 93.0%, cross entropy 0.322535\n",
      "INFO:tensorflow:Step #40320: rate 0.000100, accuracy 95.0%, cross entropy 0.209995\n",
      "INFO:tensorflow:Step #40330: rate 0.000100, accuracy 95.0%, cross entropy 0.170181\n",
      "INFO:tensorflow:Step #40340: rate 0.000100, accuracy 90.0%, cross entropy 0.334368\n",
      "INFO:tensorflow:Step #40350: rate 0.000100, accuracy 91.0%, cross entropy 0.245350\n",
      "INFO:tensorflow:Step #40360: rate 0.000100, accuracy 94.0%, cross entropy 0.218115\n",
      "INFO:tensorflow:Step #40370: rate 0.000100, accuracy 94.0%, cross entropy 0.174598\n",
      "INFO:tensorflow:Step #40380: rate 0.000100, accuracy 85.0%, cross entropy 0.376047\n",
      "INFO:tensorflow:Step #40390: rate 0.000100, accuracy 94.0%, cross entropy 0.208466\n",
      "INFO:tensorflow:Step #40400: rate 0.000100, accuracy 91.0%, cross entropy 0.201548\n",
      "INFO:tensorflow:Step #40410: rate 0.000100, accuracy 88.0%, cross entropy 0.330420\n",
      "INFO:tensorflow:Step #40420: rate 0.000100, accuracy 91.0%, cross entropy 0.286782\n",
      "INFO:tensorflow:Step #40430: rate 0.000100, accuracy 91.0%, cross entropy 0.315308\n",
      "INFO:tensorflow:Step #40440: rate 0.000100, accuracy 97.0%, cross entropy 0.176594\n",
      "INFO:tensorflow:Step #40450: rate 0.000100, accuracy 94.0%, cross entropy 0.210067\n",
      "INFO:tensorflow:Step #40460: rate 0.000100, accuracy 96.0%, cross entropy 0.109438\n",
      "INFO:tensorflow:Step #40470: rate 0.000100, accuracy 93.0%, cross entropy 0.202071\n",
      "INFO:tensorflow:Step #40480: rate 0.000100, accuracy 94.0%, cross entropy 0.164068\n",
      "INFO:tensorflow:Step #40490: rate 0.000100, accuracy 95.0%, cross entropy 0.173397\n",
      "INFO:tensorflow:Step #40500: rate 0.000100, accuracy 90.0%, cross entropy 0.399903\n",
      "INFO:tensorflow:Confusion Matrix:\n",
      " [[258   0   0   0   0   0   0   0   0   0   0   0]\n",
      " [  0 231   0   2   1   6   1   5   5   0   1   6]\n",
      " [  0   0 253   1   1   0   4   1   0   1   0   0]\n",
      " [  0   1   0 261   0   1   0   0   1   0   0   6]\n",
      " [  0   4   0   0 241   0   1   0   4  10   0   0]\n",
      " [  0   0   1   6   0 255   0   0   0   0   0   2]\n",
      " [  0   1   5   2   0   0 238   1   0   0   0   0]\n",
      " [  0   1   0   0   2   0   3 250   0   0   0   0]\n",
      " [  0   2   1   0   1   0   1   1 248   3   0   0]\n",
      " [  0   0   0   0  12   0   0   0   5 239   0   0]\n",
      " [  1   4   0   0   5   0   4   1   0   2 229   0]\n",
      " [  1   4   1   4   1   2   0   1   1   5   0 240]]\n",
      "INFO:tensorflow:Step 40500: Validation accuracy = 95.4% (N=3093)\n",
      "INFO:tensorflow:Step #40510: rate 0.000100, accuracy 91.0%, cross entropy 0.297771\n",
      "INFO:tensorflow:Step #40520: rate 0.000100, accuracy 92.0%, cross entropy 0.282407\n",
      "INFO:tensorflow:Step #40530: rate 0.000100, accuracy 93.0%, cross entropy 0.212329\n",
      "INFO:tensorflow:Step #40540: rate 0.000100, accuracy 94.0%, cross entropy 0.169359\n",
      "INFO:tensorflow:Step #40550: rate 0.000100, accuracy 94.0%, cross entropy 0.093773\n",
      "INFO:tensorflow:Step #40560: rate 0.000100, accuracy 89.0%, cross entropy 0.312676\n",
      "INFO:tensorflow:Step #40570: rate 0.000100, accuracy 96.0%, cross entropy 0.112203\n",
      "INFO:tensorflow:Step #40580: rate 0.000100, accuracy 92.0%, cross entropy 0.199917\n",
      "INFO:tensorflow:Step #40590: rate 0.000100, accuracy 97.0%, cross entropy 0.178671\n",
      "INFO:tensorflow:Step #40600: rate 0.000100, accuracy 95.0%, cross entropy 0.110233\n",
      "INFO:tensorflow:Step #40610: rate 0.000100, accuracy 90.0%, cross entropy 0.343038\n",
      "INFO:tensorflow:Step #40620: rate 0.000100, accuracy 91.0%, cross entropy 0.221675\n",
      "INFO:tensorflow:Step #40630: rate 0.000100, accuracy 89.0%, cross entropy 0.328160\n",
      "INFO:tensorflow:Step #40640: rate 0.000100, accuracy 95.0%, cross entropy 0.153849\n",
      "INFO:tensorflow:Step #40650: rate 0.000100, accuracy 97.0%, cross entropy 0.099914\n",
      "INFO:tensorflow:Step #40660: rate 0.000100, accuracy 97.0%, cross entropy 0.127696\n",
      "INFO:tensorflow:Step #40670: rate 0.000100, accuracy 88.0%, cross entropy 0.305721\n",
      "INFO:tensorflow:Step #40680: rate 0.000100, accuracy 91.0%, cross entropy 0.302681\n",
      "INFO:tensorflow:Step #40690: rate 0.000100, accuracy 92.0%, cross entropy 0.200996\n",
      "INFO:tensorflow:Step #40700: rate 0.000100, accuracy 96.0%, cross entropy 0.115471\n",
      "INFO:tensorflow:Step #40710: rate 0.000100, accuracy 93.0%, cross entropy 0.256678\n",
      "INFO:tensorflow:Step #40720: rate 0.000100, accuracy 95.0%, cross entropy 0.152039\n",
      "INFO:tensorflow:Step #40730: rate 0.000100, accuracy 95.0%, cross entropy 0.199306\n",
      "INFO:tensorflow:Step #40740: rate 0.000100, accuracy 89.0%, cross entropy 0.390601\n",
      "INFO:tensorflow:Step #40750: rate 0.000100, accuracy 88.0%, cross entropy 0.342199\n",
      "INFO:tensorflow:Step #40760: rate 0.000100, accuracy 93.0%, cross entropy 0.252095\n",
      "INFO:tensorflow:Step #40770: rate 0.000100, accuracy 93.0%, cross entropy 0.224452\n",
      "INFO:tensorflow:Step #40780: rate 0.000100, accuracy 89.0%, cross entropy 0.310405\n",
      "INFO:tensorflow:Step #40790: rate 0.000100, accuracy 86.0%, cross entropy 0.310579\n",
      "INFO:tensorflow:Step #40800: rate 0.000100, accuracy 96.0%, cross entropy 0.187961\n",
      "INFO:tensorflow:Step #40810: rate 0.000100, accuracy 96.0%, cross entropy 0.163549\n",
      "INFO:tensorflow:Step #40820: rate 0.000100, accuracy 94.0%, cross entropy 0.173788\n",
      "INFO:tensorflow:Step #40830: rate 0.000100, accuracy 96.0%, cross entropy 0.104814\n",
      "INFO:tensorflow:Step #40840: rate 0.000100, accuracy 90.0%, cross entropy 0.325931\n",
      "INFO:tensorflow:Step #40850: rate 0.000100, accuracy 96.0%, cross entropy 0.151270\n",
      "INFO:tensorflow:Step #40860: rate 0.000100, accuracy 96.0%, cross entropy 0.139359\n",
      "INFO:tensorflow:Step #40870: rate 0.000100, accuracy 92.0%, cross entropy 0.307553\n",
      "INFO:tensorflow:Step #40880: rate 0.000100, accuracy 94.0%, cross entropy 0.219263\n",
      "INFO:tensorflow:Step #40890: rate 0.000100, accuracy 94.0%, cross entropy 0.225304\n",
      "INFO:tensorflow:Step #40900: rate 0.000100, accuracy 96.0%, cross entropy 0.143350\n",
      "INFO:tensorflow:Step #40910: rate 0.000100, accuracy 93.0%, cross entropy 0.210272\n",
      "INFO:tensorflow:Step #40920: rate 0.000100, accuracy 96.0%, cross entropy 0.102193\n",
      "INFO:tensorflow:Step #40930: rate 0.000100, accuracy 92.0%, cross entropy 0.221919\n",
      "INFO:tensorflow:Step #40940: rate 0.000100, accuracy 92.0%, cross entropy 0.224977\n",
      "INFO:tensorflow:Step #40950: rate 0.000100, accuracy 97.0%, cross entropy 0.169613\n",
      "INFO:tensorflow:Step #40960: rate 0.000100, accuracy 91.0%, cross entropy 0.291809\n",
      "INFO:tensorflow:Step #40970: rate 0.000100, accuracy 93.0%, cross entropy 0.200411\n",
      "INFO:tensorflow:Step #40980: rate 0.000100, accuracy 97.0%, cross entropy 0.119247\n",
      "INFO:tensorflow:Step #40990: rate 0.000100, accuracy 96.0%, cross entropy 0.221298\n",
      "INFO:tensorflow:Step #41000: rate 0.000100, accuracy 95.0%, cross entropy 0.149035\n",
      "INFO:tensorflow:Confusion Matrix:\n",
      " [[258   0   0   0   0   0   0   0   0   0   0   0]\n",
      " [  0 234   0   2   1   6   2   5   2   0   1   5]\n",
      " [  0   0 253   1   0   0   4   1   0   2   0   0]\n",
      " [  0   1   0 260   0   2   0   0   1   0   0   6]\n",
      " [  0   3   0   0 245   0   1   0   2   8   1   0]\n",
      " [  0   0   1   6   0 254   0   0   0   0   1   2]\n",
      " [  0   1   4   3   0   0 238   1   0   0   0   0]\n",
      " [  0   0   0   0   2   0   4 250   0   0   0   0]\n",
      " [  0   2   0   0   1   2   0   1 243   8   0   0]\n",
      " [  0   0   0   0  14   0   0   0   4 238   0   0]\n",
      " [  1   2   0   0   5   1   4   0   0   2 231   0]\n",
      " [  1   4   1   4   2   1   0   0   3   4   1 239]]\n",
      "INFO:tensorflow:Step 41000: Validation accuracy = 95.4% (N=3093)\n",
      "INFO:tensorflow:Step #41010: rate 0.000100, accuracy 96.0%, cross entropy 0.184772\n",
      "INFO:tensorflow:Step #41020: rate 0.000100, accuracy 88.0%, cross entropy 0.399184\n",
      "INFO:tensorflow:Step #41030: rate 0.000100, accuracy 95.0%, cross entropy 0.175755\n",
      "INFO:tensorflow:Step #41040: rate 0.000100, accuracy 97.0%, cross entropy 0.127468\n",
      "INFO:tensorflow:Step #41050: rate 0.000100, accuracy 91.0%, cross entropy 0.280483\n",
      "INFO:tensorflow:Step #41060: rate 0.000100, accuracy 93.0%, cross entropy 0.293810\n",
      "INFO:tensorflow:Step #41070: rate 0.000100, accuracy 90.0%, cross entropy 0.241516\n",
      "INFO:tensorflow:Step #41080: rate 0.000100, accuracy 89.0%, cross entropy 0.360232\n",
      "INFO:tensorflow:Step #41090: rate 0.000100, accuracy 93.0%, cross entropy 0.243039\n",
      "INFO:tensorflow:Step #41100: rate 0.000100, accuracy 94.0%, cross entropy 0.223663\n",
      "INFO:tensorflow:Step #41110: rate 0.000100, accuracy 95.0%, cross entropy 0.158270\n",
      "INFO:tensorflow:Step #41120: rate 0.000100, accuracy 89.0%, cross entropy 0.408479\n",
      "INFO:tensorflow:Step #41130: rate 0.000100, accuracy 96.0%, cross entropy 0.166569\n",
      "INFO:tensorflow:Step #41140: rate 0.000100, accuracy 95.0%, cross entropy 0.231900\n",
      "INFO:tensorflow:Step #41150: rate 0.000100, accuracy 93.0%, cross entropy 0.264255\n",
      "INFO:tensorflow:Step #41160: rate 0.000100, accuracy 95.0%, cross entropy 0.196212\n",
      "INFO:tensorflow:Step #41170: rate 0.000100, accuracy 92.0%, cross entropy 0.288590\n",
      "INFO:tensorflow:Step #41180: rate 0.000100, accuracy 88.0%, cross entropy 0.295370\n",
      "INFO:tensorflow:Step #41190: rate 0.000100, accuracy 97.0%, cross entropy 0.102147\n",
      "INFO:tensorflow:Step #41200: rate 0.000100, accuracy 93.0%, cross entropy 0.220554\n",
      "INFO:tensorflow:Step #41210: rate 0.000100, accuracy 89.0%, cross entropy 0.407361\n",
      "INFO:tensorflow:Step #41220: rate 0.000100, accuracy 92.0%, cross entropy 0.254203\n",
      "INFO:tensorflow:Step #41230: rate 0.000100, accuracy 94.0%, cross entropy 0.206895\n",
      "INFO:tensorflow:Step #41240: rate 0.000100, accuracy 95.0%, cross entropy 0.155264\n",
      "INFO:tensorflow:Step #41250: rate 0.000100, accuracy 93.0%, cross entropy 0.251802\n",
      "INFO:tensorflow:Step #41260: rate 0.000100, accuracy 93.0%, cross entropy 0.235603\n",
      "INFO:tensorflow:Step #41270: rate 0.000100, accuracy 96.0%, cross entropy 0.099132\n",
      "INFO:tensorflow:Step #41280: rate 0.000100, accuracy 93.0%, cross entropy 0.182191\n",
      "INFO:tensorflow:Step #41290: rate 0.000100, accuracy 99.0%, cross entropy 0.073470\n",
      "INFO:tensorflow:Step #41300: rate 0.000100, accuracy 90.0%, cross entropy 0.363429\n",
      "INFO:tensorflow:Step #41310: rate 0.000100, accuracy 99.0%, cross entropy 0.059775\n",
      "INFO:tensorflow:Step #41320: rate 0.000100, accuracy 88.0%, cross entropy 0.410084\n",
      "INFO:tensorflow:Step #41330: rate 0.000100, accuracy 96.0%, cross entropy 0.174363\n",
      "INFO:tensorflow:Step #41340: rate 0.000100, accuracy 92.0%, cross entropy 0.300022\n",
      "INFO:tensorflow:Step #41350: rate 0.000100, accuracy 95.0%, cross entropy 0.179516\n",
      "INFO:tensorflow:Step #41360: rate 0.000100, accuracy 93.0%, cross entropy 0.221343\n",
      "INFO:tensorflow:Step #41370: rate 0.000100, accuracy 93.0%, cross entropy 0.270143\n",
      "INFO:tensorflow:Step #41380: rate 0.000100, accuracy 93.0%, cross entropy 0.208431\n",
      "INFO:tensorflow:Step #41390: rate 0.000100, accuracy 91.0%, cross entropy 0.348427\n",
      "INFO:tensorflow:Step #41400: rate 0.000100, accuracy 88.0%, cross entropy 0.401496\n",
      "INFO:tensorflow:Step #41410: rate 0.000100, accuracy 93.0%, cross entropy 0.206044\n",
      "INFO:tensorflow:Step #41420: rate 0.000100, accuracy 88.0%, cross entropy 0.403797\n",
      "INFO:tensorflow:Step #41430: rate 0.000100, accuracy 90.0%, cross entropy 0.319612\n",
      "INFO:tensorflow:Step #41440: rate 0.000100, accuracy 98.0%, cross entropy 0.085249\n",
      "INFO:tensorflow:Step #41450: rate 0.000100, accuracy 88.0%, cross entropy 0.364770\n",
      "INFO:tensorflow:Step #41460: rate 0.000100, accuracy 95.0%, cross entropy 0.229059\n",
      "INFO:tensorflow:Step #41470: rate 0.000100, accuracy 96.0%, cross entropy 0.164706\n",
      "INFO:tensorflow:Step #41480: rate 0.000100, accuracy 92.0%, cross entropy 0.191401\n",
      "INFO:tensorflow:Step #41490: rate 0.000100, accuracy 91.0%, cross entropy 0.286581\n",
      "INFO:tensorflow:Step #41500: rate 0.000100, accuracy 91.0%, cross entropy 0.298672\n",
      "INFO:tensorflow:Confusion Matrix:\n",
      " [[258   0   0   0   0   0   0   0   0   0   0   0]\n",
      " [  0 238   1   0   1   5   1   2   3   1   1   5]\n",
      " [  0   0 252   1   0   0   4   2   0   2   0   0]\n",
      " [  0   3   0 261   0   0   0   0   1   0   0   5]\n",
      " [  0   4   0   0 246   0   2   0   2   6   0   0]\n",
      " [  0   0   1   7   0 252   0   0   1   0   0   3]\n",
      " [  0   0   1   3   0   0 242   0   0   1   0   0]\n",
      " [  0   2   0   0   2   0   3 249   0   0   0   0]\n",
      " [  0   3   1   0   1   0   1   1 243   7   0   0]\n",
      " [  0   0   0   0  13   0   0   0   5 238   0   0]\n",
      " [  1   2   0   0   6   0   4   0   0   3 230   0]\n",
      " [  0   4   1   4   2   1   0   0   1   7   0 240]]\n",
      "INFO:tensorflow:Step 41500: Validation accuracy = 95.6% (N=3093)\n",
      "INFO:tensorflow:Step #41510: rate 0.000100, accuracy 95.0%, cross entropy 0.175430\n",
      "INFO:tensorflow:Step #41520: rate 0.000100, accuracy 95.0%, cross entropy 0.192008\n",
      "INFO:tensorflow:Step #41530: rate 0.000100, accuracy 95.0%, cross entropy 0.188397\n",
      "INFO:tensorflow:Step #41540: rate 0.000100, accuracy 96.0%, cross entropy 0.175316\n",
      "INFO:tensorflow:Step #41550: rate 0.000100, accuracy 94.0%, cross entropy 0.243093\n",
      "INFO:tensorflow:Step #41560: rate 0.000100, accuracy 99.0%, cross entropy 0.101179\n",
      "INFO:tensorflow:Step #41570: rate 0.000100, accuracy 94.0%, cross entropy 0.195965\n",
      "INFO:tensorflow:Step #41580: rate 0.000100, accuracy 95.0%, cross entropy 0.197241\n",
      "INFO:tensorflow:Step #41590: rate 0.000100, accuracy 89.0%, cross entropy 0.383900\n",
      "INFO:tensorflow:Step #41600: rate 0.000100, accuracy 92.0%, cross entropy 0.237849\n",
      "INFO:tensorflow:Step #41610: rate 0.000100, accuracy 93.0%, cross entropy 0.247517\n",
      "INFO:tensorflow:Step #41620: rate 0.000100, accuracy 92.0%, cross entropy 0.285898\n",
      "INFO:tensorflow:Step #41630: rate 0.000100, accuracy 96.0%, cross entropy 0.104442\n",
      "INFO:tensorflow:Step #41640: rate 0.000100, accuracy 94.0%, cross entropy 0.240810\n",
      "INFO:tensorflow:Step #41650: rate 0.000100, accuracy 90.0%, cross entropy 0.297939\n",
      "INFO:tensorflow:Step #41660: rate 0.000100, accuracy 95.0%, cross entropy 0.195488\n",
      "INFO:tensorflow:Step #41670: rate 0.000100, accuracy 94.0%, cross entropy 0.199787\n",
      "INFO:tensorflow:Step #41680: rate 0.000100, accuracy 92.0%, cross entropy 0.257609\n",
      "INFO:tensorflow:Step #41690: rate 0.000100, accuracy 91.0%, cross entropy 0.294752\n",
      "INFO:tensorflow:Step #41700: rate 0.000100, accuracy 90.0%, cross entropy 0.269375\n",
      "INFO:tensorflow:Step #41710: rate 0.000100, accuracy 90.0%, cross entropy 0.323673\n",
      "INFO:tensorflow:Step #41720: rate 0.000100, accuracy 94.0%, cross entropy 0.276905\n",
      "INFO:tensorflow:Step #41730: rate 0.000100, accuracy 98.0%, cross entropy 0.139913\n",
      "INFO:tensorflow:Step #41740: rate 0.000100, accuracy 91.0%, cross entropy 0.258798\n",
      "INFO:tensorflow:Step #41750: rate 0.000100, accuracy 93.0%, cross entropy 0.232665\n",
      "INFO:tensorflow:Step #41760: rate 0.000100, accuracy 95.0%, cross entropy 0.155892\n",
      "INFO:tensorflow:Step #41770: rate 0.000100, accuracy 91.0%, cross entropy 0.379106\n",
      "INFO:tensorflow:Step #41780: rate 0.000100, accuracy 89.0%, cross entropy 0.347508\n",
      "INFO:tensorflow:Step #41790: rate 0.000100, accuracy 89.0%, cross entropy 0.296926\n",
      "INFO:tensorflow:Step #41800: rate 0.000100, accuracy 93.0%, cross entropy 0.265486\n",
      "INFO:tensorflow:Step #41810: rate 0.000100, accuracy 96.0%, cross entropy 0.158359\n",
      "INFO:tensorflow:Step #41820: rate 0.000100, accuracy 88.0%, cross entropy 0.358683\n",
      "INFO:tensorflow:Step #41830: rate 0.000100, accuracy 92.0%, cross entropy 0.299555\n",
      "INFO:tensorflow:Step #41840: rate 0.000100, accuracy 98.0%, cross entropy 0.122615\n",
      "INFO:tensorflow:Step #41850: rate 0.000100, accuracy 94.0%, cross entropy 0.206338\n",
      "INFO:tensorflow:Step #41860: rate 0.000100, accuracy 95.0%, cross entropy 0.212432\n",
      "INFO:tensorflow:Step #41870: rate 0.000100, accuracy 95.0%, cross entropy 0.245654\n",
      "INFO:tensorflow:Step #41880: rate 0.000100, accuracy 93.0%, cross entropy 0.233746\n",
      "INFO:tensorflow:Step #41890: rate 0.000100, accuracy 95.0%, cross entropy 0.208294\n",
      "INFO:tensorflow:Step #41900: rate 0.000100, accuracy 97.0%, cross entropy 0.121708\n",
      "INFO:tensorflow:Step #41910: rate 0.000100, accuracy 91.0%, cross entropy 0.254281\n",
      "INFO:tensorflow:Step #41920: rate 0.000100, accuracy 91.0%, cross entropy 0.291480\n",
      "INFO:tensorflow:Step #41930: rate 0.000100, accuracy 93.0%, cross entropy 0.242698\n",
      "INFO:tensorflow:Step #41940: rate 0.000100, accuracy 89.0%, cross entropy 0.278070\n",
      "INFO:tensorflow:Step #41950: rate 0.000100, accuracy 95.0%, cross entropy 0.136616\n",
      "INFO:tensorflow:Step #41960: rate 0.000100, accuracy 93.0%, cross entropy 0.184229\n",
      "INFO:tensorflow:Step #41970: rate 0.000100, accuracy 94.0%, cross entropy 0.208499\n",
      "INFO:tensorflow:Step #41980: rate 0.000100, accuracy 95.0%, cross entropy 0.258154\n",
      "INFO:tensorflow:Step #41990: rate 0.000100, accuracy 93.0%, cross entropy 0.246623\n",
      "INFO:tensorflow:Step #42000: rate 0.000100, accuracy 91.0%, cross entropy 0.310426\n",
      "INFO:tensorflow:Confusion Matrix:\n",
      " [[258   0   0   0   0   0   0   0   0   0   0   0]\n",
      " [  0 238   0   0   1   3   3   5   3   0   1   4]\n",
      " [  0   0 252   1   0   0   5   2   0   0   0   1]\n",
      " [  0   3   1 257   0   1   0   0   1   0   0   7]\n",
      " [  0   3   0   0 248   0   0   0   2   6   1   0]\n",
      " [  0   0   0   7   0 253   0   0   0   0   0   4]\n",
      " [  0   1   5   2   0   0 238   1   0   0   0   0]\n",
      " [  0   2   0   0   2   0   3 249   0   0   0   0]\n",
      " [  0   3   0   0   1   1   0   1 243   6   2   0]\n",
      " [  0   0   0   0  16   0   0   0   4 236   0   0]\n",
      " [  1   2   0   0   5   0   4   1   0   2 231   0]\n",
      " [  1   5   1   4   2   0   0   1   1   4   0 241]]\n",
      "INFO:tensorflow:Step 42000: Validation accuracy = 95.4% (N=3093)\n",
      "INFO:tensorflow:Saving to \"../logs&checkpoint/c_rnn/ckpt-42000\"\n",
      "INFO:tensorflow:Training Completed.\n"
     ]
    },
    {
     "ename": "SystemExit",
     "evalue": "",
     "output_type": "error",
     "traceback": [
      "An exception has occurred, use %tb to see the full traceback.\n",
      "\u001b[0;31mSystemExit\u001b[0m\n"
     ]
    },
    {
     "name": "stderr",
     "output_type": "stream",
     "text": [
      "/home/metal_geek/anaconda3/lib/python3.6/site-packages/IPython/core/interactiveshell.py:2889: UserWarning: To exit: use 'exit', 'quit', or Ctrl-D.\n",
      "  warn(\"To exit: use 'exit', 'quit', or Ctrl-D.\", stacklevel=1)\n"
     ]
    }
   ],
   "source": [
    "tf.app.run(main=main)"
   ]
  },
  {
   "cell_type": "markdown",
   "metadata": {},
   "source": [
    "### Freeze"
   ]
  },
  {
   "cell_type": "code",
   "execution_count": 5,
   "metadata": {
    "collapsed": true
   },
   "outputs": [],
   "source": [
    "save_checkpoint='../logs&checkpoint/c_rnn/ckpt-42000'"
   ]
  },
  {
   "cell_type": "code",
   "execution_count": 7,
   "metadata": {},
   "outputs": [
    {
     "name": "stdout",
     "output_type": "stream",
     "text": [
      "INFO:tensorflow:Restoring parameters from ../logs&checkpoint/c_rnn/ckpt-42000\n",
      "INFO:tensorflow:Froze 14 variables.\n",
      "Converted 14 variables to const ops.\n",
      "INFO:tensorflow:Saved frozen graph to ../models/c_rnn/ckpt-42000-batched.pb\n"
     ]
    }
   ],
   "source": [
    "save_path=os.path.join(FLAGS.models_dir,model_architecture,'%s-batched.pb'%os.path.basename(save_checkpoint))\n",
    "freeze.freeze_graph(FLAGS,model_architecture,save_checkpoint,save_path,batched=True,model_size_info=model_size_info)"
   ]
  },
  {
   "cell_type": "code",
   "execution_count": 6,
   "metadata": {},
   "outputs": [
    {
     "name": "stdout",
     "output_type": "stream",
     "text": [
      "INFO:tensorflow:Restoring parameters from ../logs&checkpoint/c_rnn/ckpt-42000\n",
      "INFO:tensorflow:Froze 14 variables.\n",
      "Converted 14 variables to const ops.\n",
      "INFO:tensorflow:Saved frozen graph to ../models/c_rnn/ckpt-42000-batched.pb\n"
     ]
    }
   ],
   "source": [
    "save_path=os.path.join(FLAGS.models_dir,model_architecture,'%s-batched.pb'%os.path.basename(save_checkpoint))\n",
    "freeze.freeze_graph(FLAGS,model_architecture,save_checkpoint,save_path,batched=True,model_size_info=model_size_info)"
   ]
  }
 ],
 "metadata": {
  "kernelspec": {
   "display_name": "Python 3",
   "language": "python",
   "name": "python3"
  },
  "language_info": {
   "codemirror_mode": {
    "name": "ipython",
    "version": 3
   },
   "file_extension": ".py",
   "mimetype": "text/x-python",
   "name": "python",
   "nbconvert_exporter": "python",
   "pygments_lexer": "ipython3",
   "version": "3.9.1"
  }
 },
 "nbformat": 4,
 "nbformat_minor": 2
}
