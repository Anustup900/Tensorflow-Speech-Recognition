{
 "cells": [
  {
   "cell_type": "markdown",
   "metadata": {},
   "source": [
    "# 03 Training - ResConvLSTM \n",
    "#### Author: Jayant Verma\n",
    "#### Cognibit Solutions LLP\n",
    "\n",
    "Derived from https://arxiv.org/pdf/1610.03022.pdf, \n",
    "1. No conv(3x3)/2 used \n",
    "2. Added an extra dense layer of 256 units\n",
    "\n",
    "83.8% on val set"
   ]
  },
  {
   "cell_type": "code",
   "execution_count": 1,
   "metadata": {},
   "outputs": [
    {
     "name": "stderr",
     "output_type": "stream",
     "text": [
      "/home/metal_geek/anaconda3/lib/python3.6/importlib/_bootstrap.py:205: RuntimeWarning: compiletime version 3.5 of module 'tensorflow.python.framework.fast_tensor_util' does not match runtime version 3.6\n",
      "  return f(*args, **kwds)\n",
      "/home/metal_geek/anaconda3/lib/python3.6/site-packages/h5py/__init__.py:34: FutureWarning: Conversion of the second argument of issubdtype from `float` to `np.floating` is deprecated. In future, it will be treated as `np.float64 == np.dtype(float).type`.\n",
      "  from ._conv import register_converters as _register_converters\n"
     ]
    }
   ],
   "source": [
    "import sys\n",
    "import os\n",
    "import tensorflow as tf\n",
    "\n",
    "sys.path.append(\"../libs\")\n",
    "from classification import input_data\n",
    "from classification import models\n",
    "from classification import trainer\n",
    "from classification import freeze"
   ]
  },
  {
   "cell_type": "markdown",
   "metadata": {},
   "source": [
    "Change the data folder to use the required data folder."
   ]
  },
  {
   "cell_type": "markdown",
   "metadata": {},
   "source": [
    "### Flags"
   ]
  },
  {
   "cell_type": "code",
   "execution_count": 2,
   "metadata": {
    "collapsed": true
   },
   "outputs": [],
   "source": [
    "flags=tf.app.flags"
   ]
  },
  {
   "cell_type": "code",
   "execution_count": 3,
   "metadata": {},
   "outputs": [],
   "source": [
    "flags=tf.app.flags\n",
    "#Important Directories\n",
    "flags.DEFINE_string('data_dir','../data/raw','Train Data Folder')\n",
    "flags.DEFINE_string('summaries_dir','../summaries','Summaries Folder')\n",
    "flags.DEFINE_string('train_dir','../logs&checkpoint','Directory to write event logs and checkpoint')\n",
    "flags.DEFINE_string('models_dir','../models','Models Folder')\n",
    "#Task Specific Parameters\n",
    "flags.DEFINE_string('wanted_words','yes,no,up,down,left,right,on,off,stop,go','Wanted Words')\n",
    "flags.DEFINE_float('validation_percentage',10,'Validation Percentage')\n",
    "flags.DEFINE_float('testing_percentage',10,'Testing Percentage')\n",
    "flags.DEFINE_integer('sample_rate',16000,'Sample Rate')\n",
    "flags.DEFINE_integer('clip_duration_ms',1000,'Clip Duration in ms')\n",
    "flags.DEFINE_float('window_size_ms',30,'How long each spectogram timeslice is')\n",
    "flags.DEFINE_float('window_stride_ms',10.0,'How far to move in time between frequency windows.')\n",
    "flags.DEFINE_integer('dct_coefficient_count',40,'How many bins to use for the MFCC fingerprint')\n",
    "flags.DEFINE_float('time_shift_ms',200.0,'Range to randomly shift the training audio by in time.')\n",
    "\n",
    "FLAGS=flags.FLAGS"
   ]
  },
  {
   "cell_type": "markdown",
   "metadata": {},
   "source": [
    "### Variables"
   ]
  },
  {
   "cell_type": "code",
   "execution_count": 4,
   "metadata": {
    "collapsed": true
   },
   "outputs": [],
   "source": [
    "model_architecture='convlstm'\n",
    "start_checkpoint='../logs&checkpoint/convlstm/ckpt-30000'\n",
    "logging_interval=10\n",
    "eval_step_interval=500\n",
    "save_step_interval=2000\n",
    "silence_percentage=10.0\n",
    "unknown_percentage=10.0\n",
    "background_frequency=0.8\n",
    "background_volume=0.3\n",
    "learning_rate='0.0005,0.0001,0.00002,0.0001,0.00002' #Always seperated by comma, trains with each of the learning rate for the given number of iterations\n",
    "train_steps='10000,10000,2000,27000,5000' #Declare  the training steps for which the learning rates will be used\n",
    "batch_size=256"
   ]
  },
  {
   "cell_type": "markdown",
   "metadata": {},
   "source": [
    "### Initialise the get_train_data() get_val_data() and get_test_data() Function"
   ]
  },
  {
   "cell_type": "code",
   "execution_count": 5,
   "metadata": {
    "collapsed": true
   },
   "outputs": [],
   "source": [
    "train_dir=os.path.join(FLAGS.data_dir,'train','audio')"
   ]
  },
  {
   "cell_type": "code",
   "execution_count": 6,
   "metadata": {},
   "outputs": [
    {
     "name": "stdout",
     "output_type": "stream",
     "text": [
      "../data/raw/train/audio/*/*.wav\n",
      "../data/raw/train/audio/_background_noise_/pink_noise.wav\n",
      "../data/raw/train/audio/_background_noise_/doing_the_dishes.wav\n",
      "../data/raw/train/audio/_background_noise_/white_noise.wav\n",
      "../data/raw/train/audio/_background_noise_/dude_miaowing.wav\n",
      "../data/raw/train/audio/_background_noise_/running_tap.wav\n",
      "../data/raw/train/audio/_background_noise_/exercise_bike.wav\n"
     ]
    }
   ],
   "source": [
    "model_settings = models.prepare_model_settings(\n",
    "      len(input_data.prepare_words_list(FLAGS.wanted_words.split(','))),\n",
    "      FLAGS.sample_rate, FLAGS.clip_duration_ms, FLAGS.window_size_ms,\n",
    "      FLAGS.window_stride_ms, FLAGS.dct_coefficient_count)\n",
    "audio_processor = input_data.AudioProcessor(\n",
    "      train_dir, silence_percentage, unknown_percentage,\n",
    "      FLAGS.wanted_words.split(','), FLAGS.validation_percentage,\n",
    "      FLAGS.testing_percentage, model_settings)"
   ]
  },
  {
   "cell_type": "code",
   "execution_count": 7,
   "metadata": {},
   "outputs": [],
   "source": [
    "def get_train_data(args):\n",
    "    sess=args\n",
    "    time_shift_samples = int((FLAGS.time_shift_ms * FLAGS.sample_rate) / 1000)\n",
    "    train_fingerprints, train_ground_truth = audio_processor.get_data(\n",
    "        batch_size, 0, model_settings,background_frequency,\n",
    "        background_volume, time_shift_samples, 'training', sess)\n",
    "    return train_fingerprints,train_ground_truth"
   ]
  },
  {
   "cell_type": "code",
   "execution_count": 8,
   "metadata": {
    "collapsed": true
   },
   "outputs": [],
   "source": [
    "def get_val_data(args):\n",
    "    '''\n",
    "    Input: (sess,offset)\n",
    "    '''\n",
    "    sess,i=args\n",
    "    validation_fingerprints, validation_ground_truth = (\n",
    "            audio_processor.get_data(batch_size, i, model_settings, 0.0,\n",
    "                                     0.0, 0, 'validation', sess))\n",
    "    return validation_fingerprints,validation_ground_truth"
   ]
  },
  {
   "cell_type": "markdown",
   "metadata": {},
   "source": [
    "### Training"
   ]
  },
  {
   "cell_type": "code",
   "execution_count": 9,
   "metadata": {},
   "outputs": [],
   "source": [
    "def main(_):\n",
    "    sess=tf.InteractiveSession()\n",
    "    # Placeholders\n",
    "    fingerprint_size = model_settings['fingerprint_size']\n",
    "    label_count = model_settings['label_count']\n",
    "    fingerprint_input = tf.placeholder(\n",
    "      tf.float32, [None, fingerprint_size], name='fingerprint_input')\n",
    "    ground_truth_input = tf.placeholder(\n",
    "      tf.float32, [None, label_count], name='groundtruth_input')\n",
    "    set_size = audio_processor.set_size('validation')\n",
    "    label_count = model_settings['label_count']\n",
    "    # Create Model\n",
    "    \n",
    "    logits, dropout_prob = models.create_model( \n",
    "      fingerprint_input,\n",
    "      model_settings,\n",
    "      model_architecture,\n",
    "      is_training=True)\n",
    "    #Start Training\n",
    "    extra_args=(dropout_prob,label_count,batch_size,set_size)\n",
    "    trainer.train(sess,logits,fingerprint_input,ground_truth_input,get_train_data,\n",
    "                  get_val_data,train_steps,learning_rate,eval_step_interval, logging_interval=logging_interval,\n",
    "                  start_checkpoint=start_checkpoint,checkpoint_interval=save_step_interval,\n",
    "                  model_name=model_architecture,train_dir=FLAGS.train_dir,\n",
    "                  summaries_dir=FLAGS.summaries_dir,args=extra_args,dropout=0.8)"
   ]
  },
  {
   "cell_type": "code",
   "execution_count": 10,
   "metadata": {
    "scrolled": false
   },
   "outputs": [
    {
     "name": "stdout",
     "output_type": "stream",
     "text": [
      "WARNING:tensorflow:From ../libs/classification/trainer.py:74: get_or_create_global_step (from tensorflow.contrib.framework.python.ops.variables) is deprecated and will be removed in a future version.\n",
      "Instructions for updating:\n",
      "Please switch to tf.train.get_or_create_global_step\n",
      "INFO:tensorflow:Restoring parameters from ../logs&checkpoint/convlstm/ckpt-25000\n",
      "INFO:tensorflow:Training from step: 25001 \n",
      "INFO:tensorflow:Step #25010: rate 0.000020, accuracy 97.7%, cross entropy 0.096325\n",
      "False\n",
      "False\n",
      "False\n",
      "False\n",
      "False\n",
      "False\n",
      "False\n",
      "False\n",
      "False\n",
      "False\n",
      "False\n",
      "False\n",
      "False\n",
      "INFO:tensorflow:Confusion Matrix:\n",
      " [[258   0   0   0   0   0   0   0   0   0   0   0]\n",
      " [  0 231   1   6   3   1   3   3   3   1   2   4]\n",
      " [  0   4 246   4   1   0   2   1   0   1   1   1]\n",
      " [  0   7   0 254   0   0   1   0   0   0   1   7]\n",
      " [  0   8   0   1 228   0   1   0   0  14   5   3]\n",
      " [  0   0   0   9   0 248   1   0   1   0   1   4]\n",
      " [  0   4   7   0   2   0 233   0   1   0   0   0]\n",
      " [  0  11   0   2   0   0   1 241   1   0   0   0]\n",
      " [  0   4   0   0   2   0   2   0 242   7   0   0]\n",
      " [  0   4   0   0  24   0   0   0   2 225   0   1]\n",
      " [  1   2   0   0   8   0   2   0   0   3 228   2]\n",
      " [  0   6   0  11   1   3   3   0   3   2   1 230]]\n",
      "INFO:tensorflow:Step 25010: Validation accuracy = 92.6% (N=3093)\n",
      "INFO:tensorflow:Step #25020: rate 0.000020, accuracy 99.2%, cross entropy 0.031493\n",
      "False\n",
      "False\n",
      "False\n",
      "False\n",
      "False\n",
      "False\n",
      "False\n",
      "False\n",
      "False\n",
      "False\n",
      "False\n",
      "False\n",
      "False\n",
      "INFO:tensorflow:Confusion Matrix:\n",
      " [[258   0   0   0   0   0   0   0   0   0   0   0]\n",
      " [  0 231   1   6   3   1   3   3   3   1   2   4]\n",
      " [  0   4 246   4   1   0   2   1   0   1   1   1]\n",
      " [  0   7   0 254   0   0   1   0   0   0   1   7]\n",
      " [  0   8   0   1 229   0   0   0   0  14   5   3]\n",
      " [  0   0   0   9   0 248   1   0   1   0   1   4]\n",
      " [  0   4   7   0   2   0 233   0   1   0   0   0]\n",
      " [  0  11   0   2   0   0   1 241   1   0   0   0]\n",
      " [  0   4   0   0   2   0   2   0 242   7   0   0]\n",
      " [  0   4   0   0  24   0   0   0   2 225   0   1]\n",
      " [  1   2   0   0   9   0   2   0   0   3 227   2]\n",
      " [  0   6   0  11   0   3   3   0   3   3   1 230]]\n",
      "INFO:tensorflow:Step 25020: Validation accuracy = 92.6% (N=3093)\n",
      "INFO:tensorflow:Step #25030: rate 0.000020, accuracy 98.0%, cross entropy 0.086247\n",
      "False\n",
      "False\n",
      "False\n",
      "False\n",
      "False\n",
      "False\n",
      "False\n",
      "False\n",
      "False\n",
      "False\n",
      "False\n",
      "False\n",
      "False\n",
      "INFO:tensorflow:Confusion Matrix:\n",
      " [[258   0   0   0   0   0   0   0   0   0   0   0]\n",
      " [  0 230   1   6   3   1   3   4   3   1   2   4]\n",
      " [  0   4 247   4   1   0   1   1   0   1   1   1]\n",
      " [  0   7   0 254   0   0   1   0   0   0   1   7]\n",
      " [  0   8   0   1 229   0   0   0   0  15   4   3]\n",
      " [  0   0   0   9   0 248   1   0   1   0   1   4]\n",
      " [  0   4   7   0   2   0 233   0   1   0   0   0]\n",
      " [  0  12   0   2   0   0   1 241   0   0   0   0]\n",
      " [  0   4   0   0   2   0   2   0 242   7   0   0]\n",
      " [  0   4   0   0  23   0   0   0   2 226   0   1]\n",
      " [  1   2   0   0   9   0   2   0   0   3 227   2]\n",
      " [  0   6   0  11   0   3   3   0   3   3   1 230]]\n",
      "INFO:tensorflow:Step 25030: Validation accuracy = 92.6% (N=3093)\n",
      "INFO:tensorflow:Step #25040: rate 0.000020, accuracy 98.8%, cross entropy 0.035628\n",
      "False\n",
      "False\n",
      "False\n",
      "False\n",
      "False\n",
      "False\n",
      "False\n",
      "False\n",
      "False\n",
      "False\n",
      "False\n",
      "False\n",
      "False\n",
      "INFO:tensorflow:Confusion Matrix:\n",
      " [[258   0   0   0   0   0   0   0   0   0   0   0]\n",
      " [  0 231   1   6   3   1   3   3   3   1   2   4]\n",
      " [  0   4 247   4   1   0   1   1   0   1   1   1]\n",
      " [  0   7   0 254   0   0   1   0   0   0   1   7]\n",
      " [  0   8   0   1 227   0   0   0   0  17   4   3]\n",
      " [  0   0   0   9   0 248   1   0   1   0   1   4]\n",
      " [  0   4   7   0   2   0 233   0   1   0   0   0]\n",
      " [  0  11   0   2   0   0   1 241   1   0   0   0]\n",
      " [  0   4   0   0   2   0   2   0 242   7   0   0]\n",
      " [  0   4   0   0  23   0   0   0   2 226   0   1]\n",
      " [  1   2   0   0   9   0   2   0   0   3 227   2]\n",
      " [  0   6   0  10   0   3   3   0   3   3   1 231]]\n",
      "INFO:tensorflow:Step 25040: Validation accuracy = 92.6% (N=3093)\n",
      "INFO:tensorflow:Step #25050: rate 0.000020, accuracy 98.0%, cross entropy 0.100500\n",
      "False\n",
      "False\n",
      "False\n",
      "False\n",
      "False\n",
      "False\n",
      "False\n",
      "False\n",
      "False\n",
      "False\n",
      "False\n",
      "False\n",
      "False\n",
      "INFO:tensorflow:Confusion Matrix:\n",
      " [[258   0   0   0   0   0   0   0   0   0   0   0]\n",
      " [  0 231   1   6   3   1   3   3   3   1   2   4]\n",
      " [  0   4 246   4   1   0   2   1   0   1   1   1]\n",
      " [  0   7   0 254   0   0   1   0   0   0   1   7]\n",
      " [  0   8   0   1 227   0   0   0   0  17   4   3]\n",
      " [  0   0   0   8   0 248   1   0   1   0   1   5]\n",
      " [  0   4   7   0   2   0 233   0   1   0   0   0]\n",
      " [  0  12   0   2   0   0   1 240   1   0   0   0]\n",
      " [  0   4   0   0   2   0   2   0 242   7   0   0]\n",
      " [  0   4   0   0  23   0   0   0   2 226   0   1]\n",
      " [  1   2   0   0   9   0   2   0   0   3 227   2]\n",
      " [  0   7   0  10   1   3   3   0   3   2   1 230]]\n",
      "INFO:tensorflow:Step 25050: Validation accuracy = 92.5% (N=3093)\n",
      "INFO:tensorflow:Step #25060: rate 0.000020, accuracy 96.9%, cross entropy 0.105938\n",
      "False\n",
      "False\n",
      "False\n",
      "False\n",
      "False\n",
      "False\n",
      "False\n",
      "False\n",
      "False\n",
      "False\n",
      "False\n",
      "False\n",
      "False\n",
      "INFO:tensorflow:Confusion Matrix:\n",
      " [[258   0   0   0   0   0   0   0   0   0   0   0]\n",
      " [  0 231   1   6   3   1   3   3   4   0   2   4]\n",
      " [  0   4 246   4   1   0   2   1   0   1   1   1]\n",
      " [  0   7   0 254   0   0   1   0   0   0   1   7]\n",
      " [  0   8   0   1 227   0   0   0   0  17   4   3]\n",
      " [  0   0   0   8   0 247   1   0   1   0   1   6]\n",
      " [  0   4   7   0   2   0 233   0   1   0   0   0]\n",
      " [  0  12   0   2   0   0   1 240   1   0   0   0]\n",
      " [  0   4   0   0   2   0   2   0 242   7   0   0]\n",
      " [  0   4   0   0  21   0   0   0   2 228   0   1]\n",
      " [  1   2   0   0   9   0   2   0   0   3 227   2]\n",
      " [  0   6   0  11   1   3   3   0   3   2   1 230]]\n",
      "INFO:tensorflow:Step 25060: Validation accuracy = 92.6% (N=3093)\n",
      "INFO:tensorflow:Step #25070: rate 0.000020, accuracy 98.8%, cross entropy 0.046702\n",
      "False\n",
      "False\n",
      "False\n",
      "False\n",
      "False\n",
      "False\n",
      "False\n"
     ]
    },
    {
     "ename": "KeyboardInterrupt",
     "evalue": "",
     "output_type": "error",
     "traceback": [
      "\u001b[0;31m---------------------------------------------------------------------------\u001b[0m",
      "\u001b[0;31mKeyboardInterrupt\u001b[0m                         Traceback (most recent call last)",
      "\u001b[0;32m<ipython-input-10-6ff732982429>\u001b[0m in \u001b[0;36m<module>\u001b[0;34m()\u001b[0m\n\u001b[0;32m----> 1\u001b[0;31m \u001b[0mtf\u001b[0m\u001b[0;34m.\u001b[0m\u001b[0mapp\u001b[0m\u001b[0;34m.\u001b[0m\u001b[0mrun\u001b[0m\u001b[0;34m(\u001b[0m\u001b[0mmain\u001b[0m\u001b[0;34m=\u001b[0m\u001b[0mmain\u001b[0m\u001b[0;34m)\u001b[0m\u001b[0;34m\u001b[0m\u001b[0m\n\u001b[0m",
      "\u001b[0;32m/home/metal_geek/anaconda3/lib/python3.6/site-packages/tensorflow/python/platform/app.py\u001b[0m in \u001b[0;36mrun\u001b[0;34m(main, argv)\u001b[0m\n\u001b[1;32m     46\u001b[0m   \u001b[0;31m# Call the main function, passing through any arguments\u001b[0m\u001b[0;34m\u001b[0m\u001b[0;34m\u001b[0m\u001b[0m\n\u001b[1;32m     47\u001b[0m   \u001b[0;31m# to the final program.\u001b[0m\u001b[0;34m\u001b[0m\u001b[0;34m\u001b[0m\u001b[0m\n\u001b[0;32m---> 48\u001b[0;31m   \u001b[0m_sys\u001b[0m\u001b[0;34m.\u001b[0m\u001b[0mexit\u001b[0m\u001b[0;34m(\u001b[0m\u001b[0mmain\u001b[0m\u001b[0;34m(\u001b[0m\u001b[0m_sys\u001b[0m\u001b[0;34m.\u001b[0m\u001b[0margv\u001b[0m\u001b[0;34m[\u001b[0m\u001b[0;34m:\u001b[0m\u001b[0;36m1\u001b[0m\u001b[0;34m]\u001b[0m \u001b[0;34m+\u001b[0m \u001b[0mflags_passthrough\u001b[0m\u001b[0;34m)\u001b[0m\u001b[0;34m)\u001b[0m\u001b[0;34m\u001b[0m\u001b[0m\n\u001b[0m\u001b[1;32m     49\u001b[0m \u001b[0;34m\u001b[0m\u001b[0m\n\u001b[1;32m     50\u001b[0m \u001b[0;34m\u001b[0m\u001b[0m\n",
      "\u001b[0;32m<ipython-input-9-d6a0a38d7cf8>\u001b[0m in \u001b[0;36mmain\u001b[0;34m(_)\u001b[0m\n\u001b[1;32m     23\u001b[0m                   \u001b[0mstart_checkpoint\u001b[0m\u001b[0;34m=\u001b[0m\u001b[0mstart_checkpoint\u001b[0m\u001b[0;34m,\u001b[0m\u001b[0mcheckpoint_interval\u001b[0m\u001b[0;34m=\u001b[0m\u001b[0msave_step_interval\u001b[0m\u001b[0;34m,\u001b[0m\u001b[0;34m\u001b[0m\u001b[0m\n\u001b[1;32m     24\u001b[0m                   \u001b[0mmodel_name\u001b[0m\u001b[0;34m=\u001b[0m\u001b[0mmodel_architecture\u001b[0m\u001b[0;34m,\u001b[0m\u001b[0mtrain_dir\u001b[0m\u001b[0;34m=\u001b[0m\u001b[0mFLAGS\u001b[0m\u001b[0;34m.\u001b[0m\u001b[0mtrain_dir\u001b[0m\u001b[0;34m,\u001b[0m\u001b[0;34m\u001b[0m\u001b[0m\n\u001b[0;32m---> 25\u001b[0;31m                   summaries_dir=FLAGS.summaries_dir,args=extra_args,dropout=0.8)\n\u001b[0m",
      "\u001b[0;32m/home/metal_geek/Projects/Tensorflow_Audio_Recognition_Kaggle/libs/classification/trainer.py\u001b[0m in \u001b[0;36mtrain\u001b[0;34m(sess, logits, fingerprint_input, ground_truth_input, get_train_data, get_val_data, training_steps, learning_rate, eval_step_interval, logging_interval, start_checkpoint, checkpoint_interval, model_name, train_dir, summaries_dir, dropout, args)\u001b[0m\n\u001b[1;32m    147\u001b[0m                         \u001b[0mground_truth_input\u001b[0m\u001b[0;34m:\u001b[0m \u001b[0mvalidation_ground_truth\u001b[0m\u001b[0;34m,\u001b[0m\u001b[0;34m\u001b[0m\u001b[0m\n\u001b[1;32m    148\u001b[0m                         \u001b[0mdropout_prob\u001b[0m\u001b[0;34m:\u001b[0m \u001b[0;36m1.0\u001b[0m\u001b[0;34m,\u001b[0m\u001b[0;34m\u001b[0m\u001b[0m\n\u001b[0;32m--> 149\u001b[0;31m                         \u001b[0;34m'train_mode:0'\u001b[0m\u001b[0;34m:\u001b[0m\u001b[0;32mFalse\u001b[0m\u001b[0;34m\u001b[0m\u001b[0m\n\u001b[0m\u001b[1;32m    150\u001b[0m                     })\n\u001b[1;32m    151\u001b[0m                 \u001b[0mprint\u001b[0m\u001b[0;34m(\u001b[0m\u001b[0mtm\u001b[0m\u001b[0;34m)\u001b[0m\u001b[0;34m\u001b[0m\u001b[0m\n",
      "\u001b[0;32m/home/metal_geek/anaconda3/lib/python3.6/site-packages/tensorflow/python/client/session.py\u001b[0m in \u001b[0;36mrun\u001b[0;34m(self, fetches, feed_dict, options, run_metadata)\u001b[0m\n\u001b[1;32m    887\u001b[0m     \u001b[0;32mtry\u001b[0m\u001b[0;34m:\u001b[0m\u001b[0;34m\u001b[0m\u001b[0m\n\u001b[1;32m    888\u001b[0m       result = self._run(None, fetches, feed_dict, options_ptr,\n\u001b[0;32m--> 889\u001b[0;31m                          run_metadata_ptr)\n\u001b[0m\u001b[1;32m    890\u001b[0m       \u001b[0;32mif\u001b[0m \u001b[0mrun_metadata\u001b[0m\u001b[0;34m:\u001b[0m\u001b[0;34m\u001b[0m\u001b[0m\n\u001b[1;32m    891\u001b[0m         \u001b[0mproto_data\u001b[0m \u001b[0;34m=\u001b[0m \u001b[0mtf_session\u001b[0m\u001b[0;34m.\u001b[0m\u001b[0mTF_GetBuffer\u001b[0m\u001b[0;34m(\u001b[0m\u001b[0mrun_metadata_ptr\u001b[0m\u001b[0;34m)\u001b[0m\u001b[0;34m\u001b[0m\u001b[0m\n",
      "\u001b[0;32m/home/metal_geek/anaconda3/lib/python3.6/site-packages/tensorflow/python/client/session.py\u001b[0m in \u001b[0;36m_run\u001b[0;34m(self, handle, fetches, feed_dict, options, run_metadata)\u001b[0m\n\u001b[1;32m   1118\u001b[0m     \u001b[0;32mif\u001b[0m \u001b[0mfinal_fetches\u001b[0m \u001b[0;32mor\u001b[0m \u001b[0mfinal_targets\u001b[0m \u001b[0;32mor\u001b[0m \u001b[0;34m(\u001b[0m\u001b[0mhandle\u001b[0m \u001b[0;32mand\u001b[0m \u001b[0mfeed_dict_tensor\u001b[0m\u001b[0;34m)\u001b[0m\u001b[0;34m:\u001b[0m\u001b[0;34m\u001b[0m\u001b[0m\n\u001b[1;32m   1119\u001b[0m       results = self._do_run(handle, final_targets, final_fetches,\n\u001b[0;32m-> 1120\u001b[0;31m                              feed_dict_tensor, options, run_metadata)\n\u001b[0m\u001b[1;32m   1121\u001b[0m     \u001b[0;32melse\u001b[0m\u001b[0;34m:\u001b[0m\u001b[0;34m\u001b[0m\u001b[0m\n\u001b[1;32m   1122\u001b[0m       \u001b[0mresults\u001b[0m \u001b[0;34m=\u001b[0m \u001b[0;34m[\u001b[0m\u001b[0;34m]\u001b[0m\u001b[0;34m\u001b[0m\u001b[0m\n",
      "\u001b[0;32m/home/metal_geek/anaconda3/lib/python3.6/site-packages/tensorflow/python/client/session.py\u001b[0m in \u001b[0;36m_do_run\u001b[0;34m(self, handle, target_list, fetch_list, feed_dict, options, run_metadata)\u001b[0m\n\u001b[1;32m   1315\u001b[0m     \u001b[0;32mif\u001b[0m \u001b[0mhandle\u001b[0m \u001b[0;32mis\u001b[0m \u001b[0;32mNone\u001b[0m\u001b[0;34m:\u001b[0m\u001b[0;34m\u001b[0m\u001b[0m\n\u001b[1;32m   1316\u001b[0m       return self._do_call(_run_fn, self._session, feeds, fetches, targets,\n\u001b[0;32m-> 1317\u001b[0;31m                            options, run_metadata)\n\u001b[0m\u001b[1;32m   1318\u001b[0m     \u001b[0;32melse\u001b[0m\u001b[0;34m:\u001b[0m\u001b[0;34m\u001b[0m\u001b[0m\n\u001b[1;32m   1319\u001b[0m       \u001b[0;32mreturn\u001b[0m \u001b[0mself\u001b[0m\u001b[0;34m.\u001b[0m\u001b[0m_do_call\u001b[0m\u001b[0;34m(\u001b[0m\u001b[0m_prun_fn\u001b[0m\u001b[0;34m,\u001b[0m \u001b[0mself\u001b[0m\u001b[0;34m.\u001b[0m\u001b[0m_session\u001b[0m\u001b[0;34m,\u001b[0m \u001b[0mhandle\u001b[0m\u001b[0;34m,\u001b[0m \u001b[0mfeeds\u001b[0m\u001b[0;34m,\u001b[0m \u001b[0mfetches\u001b[0m\u001b[0;34m)\u001b[0m\u001b[0;34m\u001b[0m\u001b[0m\n",
      "\u001b[0;32m/home/metal_geek/anaconda3/lib/python3.6/site-packages/tensorflow/python/client/session.py\u001b[0m in \u001b[0;36m_do_call\u001b[0;34m(self, fn, *args)\u001b[0m\n\u001b[1;32m   1321\u001b[0m   \u001b[0;32mdef\u001b[0m \u001b[0m_do_call\u001b[0m\u001b[0;34m(\u001b[0m\u001b[0mself\u001b[0m\u001b[0;34m,\u001b[0m \u001b[0mfn\u001b[0m\u001b[0;34m,\u001b[0m \u001b[0;34m*\u001b[0m\u001b[0margs\u001b[0m\u001b[0;34m)\u001b[0m\u001b[0;34m:\u001b[0m\u001b[0;34m\u001b[0m\u001b[0m\n\u001b[1;32m   1322\u001b[0m     \u001b[0;32mtry\u001b[0m\u001b[0;34m:\u001b[0m\u001b[0;34m\u001b[0m\u001b[0m\n\u001b[0;32m-> 1323\u001b[0;31m       \u001b[0;32mreturn\u001b[0m \u001b[0mfn\u001b[0m\u001b[0;34m(\u001b[0m\u001b[0;34m*\u001b[0m\u001b[0margs\u001b[0m\u001b[0;34m)\u001b[0m\u001b[0;34m\u001b[0m\u001b[0m\n\u001b[0m\u001b[1;32m   1324\u001b[0m     \u001b[0;32mexcept\u001b[0m \u001b[0merrors\u001b[0m\u001b[0;34m.\u001b[0m\u001b[0mOpError\u001b[0m \u001b[0;32mas\u001b[0m \u001b[0me\u001b[0m\u001b[0;34m:\u001b[0m\u001b[0;34m\u001b[0m\u001b[0m\n\u001b[1;32m   1325\u001b[0m       \u001b[0mmessage\u001b[0m \u001b[0;34m=\u001b[0m \u001b[0mcompat\u001b[0m\u001b[0;34m.\u001b[0m\u001b[0mas_text\u001b[0m\u001b[0;34m(\u001b[0m\u001b[0me\u001b[0m\u001b[0;34m.\u001b[0m\u001b[0mmessage\u001b[0m\u001b[0;34m)\u001b[0m\u001b[0;34m\u001b[0m\u001b[0m\n",
      "\u001b[0;32m/home/metal_geek/anaconda3/lib/python3.6/site-packages/tensorflow/python/client/session.py\u001b[0m in \u001b[0;36m_run_fn\u001b[0;34m(session, feed_dict, fetch_list, target_list, options, run_metadata)\u001b[0m\n\u001b[1;32m   1300\u001b[0m           return tf_session.TF_Run(session, options,\n\u001b[1;32m   1301\u001b[0m                                    \u001b[0mfeed_dict\u001b[0m\u001b[0;34m,\u001b[0m \u001b[0mfetch_list\u001b[0m\u001b[0;34m,\u001b[0m \u001b[0mtarget_list\u001b[0m\u001b[0;34m,\u001b[0m\u001b[0;34m\u001b[0m\u001b[0m\n\u001b[0;32m-> 1302\u001b[0;31m                                    status, run_metadata)\n\u001b[0m\u001b[1;32m   1303\u001b[0m \u001b[0;34m\u001b[0m\u001b[0m\n\u001b[1;32m   1304\u001b[0m     \u001b[0;32mdef\u001b[0m \u001b[0m_prun_fn\u001b[0m\u001b[0;34m(\u001b[0m\u001b[0msession\u001b[0m\u001b[0;34m,\u001b[0m \u001b[0mhandle\u001b[0m\u001b[0;34m,\u001b[0m \u001b[0mfeed_dict\u001b[0m\u001b[0;34m,\u001b[0m \u001b[0mfetch_list\u001b[0m\u001b[0;34m)\u001b[0m\u001b[0;34m:\u001b[0m\u001b[0;34m\u001b[0m\u001b[0m\n",
      "\u001b[0;31mKeyboardInterrupt\u001b[0m: "
     ]
    }
   ],
   "source": [
    "tf.app.run(main=main)"
   ]
  },
  {
   "cell_type": "markdown",
   "metadata": {},
   "source": [
    "### Freeze Graph"
   ]
  },
  {
   "cell_type": "code",
   "execution_count": 5,
   "metadata": {
    "collapsed": true
   },
   "outputs": [],
   "source": [
    "save_checkpoint='../logs&checkpoint/convlstm/ckpt-52000'"
   ]
  },
  {
   "cell_type": "code",
   "execution_count": null,
   "metadata": {
    "scrolled": false
   },
   "outputs": [],
   "source": [
    "save_path=os.path.join(FLAGS.models_dir,model_architecture,'%s.pb'%os.path.basename(save_checkpoint))\n",
    "freeze.freeze_graph(FLAGS,model_architecture,save_checkpoint,save_path)"
   ]
  },
  {
   "cell_type": "code",
   "execution_count": 6,
   "metadata": {},
   "outputs": [
    {
     "name": "stdout",
     "output_type": "stream",
     "text": [
      "INFO:tensorflow:Restoring parameters from ../logs&checkpoint/convlstm/ckpt-52000\n",
      "INFO:tensorflow:Froze 63 variables.\n",
      "Converted 63 variables to const ops.\n",
      "INFO:tensorflow:Saved frozen graph to ../models/convlstm/ckpt-52000-batched.pb\n"
     ]
    }
   ],
   "source": [
    "save_path=os.path.join(FLAGS.models_dir,model_architecture,'%s-batched.pb'%os.path.basename(save_checkpoint))\n",
    "freeze.freeze_graph(FLAGS,model_architecture,save_checkpoint,save_path,batched=True)"
   ]
  }
 ],
 "metadata": {
  "kernelspec": {
   "display_name": "Python 3",
   "language": "python",
   "name": "python3"
  },
  "language_info": {
   "codemirror_mode": {
    "name": "ipython",
    "version": 3
   },
   "file_extension": ".py",
   "mimetype": "text/x-python",
   "name": "python",
   "nbconvert_exporter": "python",
   "pygments_lexer": "ipython3",
   "version": "3.9.1"
  }
 },
 "nbformat": 4,
 "nbformat_minor": 2
}
